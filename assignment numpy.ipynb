{
 "cells": [
  {
   "cell_type": "code",
   "execution_count": 2,
   "id": "c934c3ff-2559-4efb-921c-5096c3350724",
   "metadata": {},
   "outputs": [
    {
     "data": {
      "text/plain": [
       "array(['1', '2', '3', '4', '5'], dtype='<U1')"
      ]
     },
     "execution_count": 2,
     "metadata": {},
     "output_type": "execute_result"
    }
   ],
   "source": [
    "import numpy as np\n",
    "list_ = ['1','2','3','4','5']\n",
    "array_list = np.array(object = list_)\n",
    "array_list"
   ]
  },
  {
   "cell_type": "markdown",
   "id": "39621794-2ce8-49cb-b423-5bd3596bf262",
   "metadata": {},
   "source": [
    "## Q1. Is there any difference in the data type of variables list_ and array_list? If there is then write a code to print the data types of both the variables."
   ]
  },
  {
   "cell_type": "markdown",
   "id": "af989eb7-1357-4ee4-89c6-8fa1644acf09",
   "metadata": {},
   "source": [
    "Yes there is a difference in the data type of variables list_ and array_list"
   ]
  },
  {
   "cell_type": "code",
   "execution_count": 3,
   "id": "ee1cba0f-bd25-423f-bc13-8453192ba1f8",
   "metadata": {},
   "outputs": [
    {
     "data": {
      "text/plain": [
       "numpy.ndarray"
      ]
     },
     "execution_count": 3,
     "metadata": {},
     "output_type": "execute_result"
    }
   ],
   "source": [
    "type(array_list)"
   ]
  },
  {
   "cell_type": "code",
   "execution_count": 4,
   "id": "e8fb6146-9a05-431d-b0b7-8c743f01fda7",
   "metadata": {},
   "outputs": [
    {
     "data": {
      "text/plain": [
       "list"
      ]
     },
     "execution_count": 4,
     "metadata": {},
     "output_type": "execute_result"
    }
   ],
   "source": [
    "type(list_)"
   ]
  },
  {
   "cell_type": "code",
   "execution_count": 5,
   "id": "43ad4694-c636-490a-b7ab-d5c4172e1d95",
   "metadata": {},
   "outputs": [
    {
     "data": {
      "text/plain": [
       "dtype('<U1')"
      ]
     },
     "execution_count": 5,
     "metadata": {},
     "output_type": "execute_result"
    }
   ],
   "source": [
    "array_list.dtype"
   ]
  },
  {
   "cell_type": "code",
   "execution_count": null,
   "id": "703653dc-b96c-4f30-b83e-be3ddefddb54",
   "metadata": {},
   "outputs": [],
   "source": []
  },
  {
   "cell_type": "markdown",
   "id": "e74b498b-3928-4e64-bd1d-d1e19fd1b7a1",
   "metadata": {},
   "source": [
    "## Q2. Write a code to print the data type of each and every element of both the variables list_ and arra_list."
   ]
  },
  {
   "cell_type": "code",
   "execution_count": 38,
   "id": "d2b0d89a-fb1b-4f28-a723-1fbc5e62c59e",
   "metadata": {},
   "outputs": [
    {
     "name": "stdout",
     "output_type": "stream",
     "text": [
      "1 <class 'numpy.ndarray'>\n",
      "2 <class 'numpy.ndarray'>\n",
      "3 <class 'numpy.ndarray'>\n",
      "4 <class 'numpy.ndarray'>\n",
      "5 <class 'numpy.ndarray'>\n"
     ]
    }
   ],
   "source": [
    "for i in array_list:\n",
    "    print (i, type(array_list))"
   ]
  },
  {
   "cell_type": "code",
   "execution_count": 39,
   "id": "0e15b122-4f57-4bee-bc2e-da6c5d77abf9",
   "metadata": {},
   "outputs": [
    {
     "name": "stdout",
     "output_type": "stream",
     "text": [
      "1 <class 'list'>\n",
      "2 <class 'list'>\n",
      "3 <class 'list'>\n",
      "4 <class 'list'>\n",
      "5 <class 'list'>\n"
     ]
    }
   ],
   "source": [
    "for i in list_:\n",
    "    print (i,type(list_))"
   ]
  },
  {
   "cell_type": "code",
   "execution_count": null,
   "id": "e3f956a1-fc2f-41f0-ae09-d3b4d36ed6fe",
   "metadata": {},
   "outputs": [],
   "source": []
  },
  {
   "cell_type": "markdown",
   "id": "bf3661d5-2621-42e1-b0cf-470a70da0e09",
   "metadata": {},
   "source": [
    "## Q3. Considering the following changes in the variable, array_list:array_list = np.array(object = list_, dtype = int)\n",
    "\n",
    "## Will there be any difference in the data type of the elements present in both the variables, list_ and arra_list? \n",
    "\n",
    "## If so then print the data types of each and every element present in both the variables, list_and arra_list.\n",
    "\n",
    "## Consider the below code to answer further questions:\n",
    "\n",
    "## import numpy as np\n",
    "## num_list = [ [ 1 , 2 , 3 ] , [ 4 , 5 , 6 ] ]\n",
    "## num_array = np.array(object = num_list)"
   ]
  },
  {
   "cell_type": "markdown",
   "id": "fb1a463f-b4a6-4874-aaac-42d1d5b4b79e",
   "metadata": {},
   "source": [
    "Yes. There will be any difference in the data type of the elements present in both the variables, list_ and arra_list\n"
   ]
  },
  {
   "cell_type": "code",
   "execution_count": 8,
   "id": "d727c43c-978d-4157-a1eb-8b068f05793b",
   "metadata": {},
   "outputs": [],
   "source": [
    "array_list = np.array(object = list_, dtype = int)"
   ]
  },
  {
   "cell_type": "code",
   "execution_count": 9,
   "id": "bbb4591f-7196-4420-afeb-75de004f4851",
   "metadata": {},
   "outputs": [
    {
     "data": {
      "text/plain": [
       "array([1, 2, 3, 4, 5])"
      ]
     },
     "execution_count": 9,
     "metadata": {},
     "output_type": "execute_result"
    }
   ],
   "source": [
    "array_list"
   ]
  },
  {
   "cell_type": "code",
   "execution_count": 11,
   "id": "824a2064-7877-40fb-ae05-ecd74dbb5dea",
   "metadata": {},
   "outputs": [
    {
     "data": {
      "text/plain": [
       "list"
      ]
     },
     "execution_count": 11,
     "metadata": {},
     "output_type": "execute_result"
    }
   ],
   "source": [
    "type(list_)"
   ]
  },
  {
   "cell_type": "code",
   "execution_count": 12,
   "id": "b30bb9a4-bd93-45f7-8ec6-d5b2aac6bb62",
   "metadata": {},
   "outputs": [
    {
     "data": {
      "text/plain": [
       "numpy.ndarray"
      ]
     },
     "execution_count": 12,
     "metadata": {},
     "output_type": "execute_result"
    }
   ],
   "source": [
    "type(array_list)"
   ]
  },
  {
   "cell_type": "markdown",
   "id": "6b2051d1-20e4-42a0-8990-2053bd94d677",
   "metadata": {},
   "source": [
    "## Q4. Write a code to find the following characteristics of variable, num_array:\n",
    "## (i) shape\n",
    "## (ii) size"
   ]
  },
  {
   "cell_type": "code",
   "execution_count": 13,
   "id": "44521c01-ffa0-438e-94c8-028d5f8ec2fa",
   "metadata": {},
   "outputs": [],
   "source": [
    "import numpy as np\n",
    "num_list = [ [ 1 , 2 , 3 ] , [ 4 , 5 , 6 ] ]\n",
    "num_array = np.array(object = num_list)"
   ]
  },
  {
   "cell_type": "code",
   "execution_count": 14,
   "id": "d7a59ba3-f143-4b61-aef5-ed6f498ec7af",
   "metadata": {},
   "outputs": [
    {
     "data": {
      "text/plain": [
       "array([[1, 2, 3],\n",
       "       [4, 5, 6]])"
      ]
     },
     "execution_count": 14,
     "metadata": {},
     "output_type": "execute_result"
    }
   ],
   "source": [
    "num_array"
   ]
  },
  {
   "cell_type": "code",
   "execution_count": 15,
   "id": "9f2af413-8414-43f5-b316-ec7e70b8e203",
   "metadata": {},
   "outputs": [
    {
     "data": {
      "text/plain": [
       "(2, 3)"
      ]
     },
     "execution_count": 15,
     "metadata": {},
     "output_type": "execute_result"
    }
   ],
   "source": [
    "num_array.shape"
   ]
  },
  {
   "cell_type": "code",
   "execution_count": 16,
   "id": "d3ed9962-908f-4407-852e-bd6fd414bb18",
   "metadata": {},
   "outputs": [
    {
     "data": {
      "text/plain": [
       "6"
      ]
     },
     "execution_count": 16,
     "metadata": {},
     "output_type": "execute_result"
    }
   ],
   "source": [
    "num_array.size"
   ]
  },
  {
   "cell_type": "markdown",
   "id": "db31bb77-2334-4b9b-b914-a0e02e607b40",
   "metadata": {},
   "source": [
    "## Q5. Write a code to create numpy array of 3*3 matrix containing zeros only, using a numpy array creation function.\n",
    "## [Hint: The size of the array will be 9 and the shape will be (3,3).]"
   ]
  },
  {
   "cell_type": "code",
   "execution_count": 23,
   "id": "d766cb70-cfac-4832-8cad-002169753ad3",
   "metadata": {},
   "outputs": [
    {
     "data": {
      "text/plain": [
       "array([[0., 0., 0.],\n",
       "       [0., 0., 0.],\n",
       "       [0., 0., 0.]])"
      ]
     },
     "execution_count": 23,
     "metadata": {},
     "output_type": "execute_result"
    }
   ],
   "source": [
    "x= np.zeros([3  ,3])\n",
    "x"
   ]
  },
  {
   "cell_type": "code",
   "execution_count": 25,
   "id": "336a10bb-c1e2-4d20-83ce-0f6c101f074b",
   "metadata": {},
   "outputs": [
    {
     "name": "stdout",
     "output_type": "stream",
     "text": [
      "(3, 3)\n",
      "9\n"
     ]
    }
   ],
   "source": [
    "print(x.shape)\n",
    "print(x.size)\n"
   ]
  },
  {
   "cell_type": "markdown",
   "id": "c73ee9a8-4b06-4707-9a99-748ed8479740",
   "metadata": {},
   "source": [
    "## Q6. Create an identity matrix of shape (5,5) using numpy functions?\n",
    "## [Hint: An identity matrix is a matrix containing 1 diagonally and other elements will be 0.]"
   ]
  },
  {
   "cell_type": "code",
   "execution_count": 30,
   "id": "9b78b0fb-ca8a-4797-b14c-d8a79772b0d9",
   "metadata": {},
   "outputs": [],
   "source": [
    "l =[1,1,1,1,1]"
   ]
  },
  {
   "cell_type": "code",
   "execution_count": 32,
   "id": "9ca77fdd-a1e9-46b8-a2b8-772a55d3891c",
   "metadata": {},
   "outputs": [
    {
     "data": {
      "text/plain": [
       "array([[1, 0, 0, 0, 0],\n",
       "       [0, 1, 0, 0, 0],\n",
       "       [0, 0, 1, 0, 0],\n",
       "       [0, 0, 0, 1, 0],\n",
       "       [0, 0, 0, 0, 1]])"
      ]
     },
     "execution_count": 32,
     "metadata": {},
     "output_type": "execute_result"
    }
   ],
   "source": [
    "x2 = np.diag(l)\n",
    "x2"
   ]
  },
  {
   "cell_type": "code",
   "execution_count": 33,
   "id": "70f7175a-8d1e-4e42-a340-f0d7363d4761",
   "metadata": {},
   "outputs": [
    {
     "name": "stdout",
     "output_type": "stream",
     "text": [
      "25\n",
      "(5, 5)\n"
     ]
    }
   ],
   "source": [
    "print(x2.size)\n",
    "print(x2.shape)"
   ]
  },
  {
   "cell_type": "code",
   "execution_count": null,
   "id": "39fff499-57b8-4e3d-b138-eabdd3ed90ab",
   "metadata": {},
   "outputs": [],
   "source": []
  }
 ],
 "metadata": {
  "kernelspec": {
   "display_name": "Python 3 (ipykernel)",
   "language": "python",
   "name": "python3"
  },
  "language_info": {
   "codemirror_mode": {
    "name": "ipython",
    "version": 3
   },
   "file_extension": ".py",
   "mimetype": "text/x-python",
   "name": "python",
   "nbconvert_exporter": "python",
   "pygments_lexer": "ipython3",
   "version": "3.10.8"
  }
 },
 "nbformat": 4,
 "nbformat_minor": 5
}
